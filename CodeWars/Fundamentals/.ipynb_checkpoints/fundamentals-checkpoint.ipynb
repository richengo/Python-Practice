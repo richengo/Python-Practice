{
 "cells": [
  {
   "cell_type": "markdown",
   "id": "comparative-activation",
   "metadata": {},
   "source": [
    "# Python Fundamentals\n",
    "\n",
    "The following notebook contains some of the problems found on [CodeWars](https://www.codewars.com/), together with the solutions that I have came up with.\n",
    "\n",
    "These problems are 5/6 kyu level of difficulty."
   ]
  },
  {
   "cell_type": "markdown",
   "id": "rational-funds",
   "metadata": {},
   "source": [
    "### Find the odd int\n",
    "Given an array of integers, find the one that appears an odd number of times.\n",
    "\n",
    "There will always be only one integer that appears an odd number of times.\n",
    "\n",
    "**Solution**"
   ]
  },
  {
   "cell_type": "code",
   "execution_count": 1,
   "id": "human-eligibility",
   "metadata": {},
   "outputs": [],
   "source": [
    "def find_it(seq):\n",
    "    for num in set(seq):\n",
    "        if seq.count(num) % 2 == 1:\n",
    "            return num"
   ]
  },
  {
   "cell_type": "code",
   "execution_count": 2,
   "id": "intimate-murder",
   "metadata": {},
   "outputs": [
    {
     "data": {
      "text/plain": [
       "5"
      ]
     },
     "execution_count": 2,
     "metadata": {},
     "output_type": "execute_result"
    }
   ],
   "source": [
    "find_it([20,1,-1,2,-2,3,3,5,5,1,2,4,20,4,-1,-2,5])"
   ]
  },
  {
   "cell_type": "markdown",
   "id": "velvet-chosen",
   "metadata": {},
   "source": [
    "### Help the book seller!\n",
    "\n",
    "A bookseller has lots of books classified in 26 categories labeled A, B, ... Z. Each book has a code `c` of 3, 4, 5 or more characters. The 1st character of a code is a capital letter which defines the book category.\n",
    "\n",
    "In the bookseller's stocklist each code `c` is followed by a space and by a positive integer n (int n >= 0) which indicates the quantity of books of this code in stock.\n",
    "\n",
    "For example an extract of a stocklist could be:\n",
    "\n",
    "`L = {\"ABART 20\", \"CDXEF 50\", \"BKWRK 25\", \"BTSQZ 89\", \"DRTYM 60\"}.\n",
    "or\n",
    "L = [\"ABART 20\", \"CDXEF 50\", \"BKWRK 25\", \"BTSQZ 89\", \"DRTYM 60\"] or ....`\n",
    "\n",
    "You will be given a stocklist (e.g. : L) and a list of categories in capital letters e.g :\n",
    "\n",
    "`M = {\"A\", \"B\", \"C\", \"W\"} \n",
    "or\n",
    "M = [\"A\", \"B\", \"C\", \"W\"] or ...`\n",
    "\n",
    "You will be given a stocklist (e.g. : L) and a list of categories in capital letters and your task is to find all the books of L with codes belonging to each category of M and to sum their quantity according to each category.\n",
    "\n",
    "For the lists L and M of example you have to return the string (in Haskell/Clojure/Racket a list of pairs):\n",
    "\n",
    "`(A : 20) - (B : 114) - (C : 50) - (W : 0)`\n",
    "\n",
    "where A, B, C, W are the categories, 20 is the sum of the unique book of category A, 114 the sum corresponding to \"BKWRK\" and \"BTSQZ\", 50 corresponding to \"CDXEF\" and 0 to category 'W' since there are no code beginning with W.\n",
    "\n",
    "If L or M are empty return string is \"\" (Clojure and Racket should return an empty array/list instead).\n",
    "\n",
    "Note:\n",
    "In the result codes and their values are in the same order as in M.\n",
    "\n",
    "**Solution**"
   ]
  },
  {
   "cell_type": "code",
   "execution_count": 6,
   "id": "ahead-perception",
   "metadata": {},
   "outputs": [],
   "source": [
    "def stock_list(list_of_art, list_of_cat):\n",
    "    # checks if either lists are empty\n",
    "    if len(list_of_art)==0 or len(list_of_cat)==0:\n",
    "        return ''\n",
    "    \n",
    "    main_output = \"\"\n",
    "    for cat in list_of_cat:\n",
    "        count = 0\n",
    "        for art in list_of_art:\n",
    "            if art[0] == cat:\n",
    "                count += int(art[art.index(\" \")+1:])\n",
    "        output = f\"({cat} : {count})\"\n",
    "        if main_output == \"\":\n",
    "            main_output += output\n",
    "        else:\n",
    "            main_output = main_output + \" - \" + output\n",
    "    return main_output"
   ]
  },
  {
   "cell_type": "code",
   "execution_count": 7,
   "id": "concrete-cassette",
   "metadata": {},
   "outputs": [
    {
     "data": {
      "text/plain": [
       "'(A : 200) - (B : 1140)'"
      ]
     },
     "execution_count": 7,
     "metadata": {},
     "output_type": "execute_result"
    }
   ],
   "source": [
    "b = [\"ABAR 200\", \"CDXE 500\", \"BKWR 250\", \"BTSQ 890\", \"DRTY 600\"]\n",
    "c = [\"A\", \"B\"]\n",
    "\n",
    "stock_list(b, c)"
   ]
  },
  {
   "cell_type": "markdown",
   "id": "surface-thumbnail",
   "metadata": {},
   "source": [
    "## Difficulty: 5 kyu"
   ]
  },
  {
   "cell_type": "markdown",
   "id": "packed-match",
   "metadata": {},
   "source": [
    "### Best travel\n",
    "\n",
    "ohn and Mary want to travel between a few towns A, B, C ... Mary has on a sheet of paper a list of distances between these towns. `ls = [50, 55, 57, 58, 60]`. John is tired of driving and he says to Mary that he doesn't want to drive more than t = 174 miles and he will visit only 3 towns.\n",
    "\n",
    "Which distances, hence which towns, they will choose so that the sum of the distances is the biggest possible to please Mary and John?\n",
    "\n",
    "Example:\n",
    "With list ls and 3 towns to visit they can make a choice between: `[50,55,57],[50,55,58],[50,55,60],[50,57,58],[50,57,60],[50,58,60],[55,57,58],[55,57,60],[55,58,60],[57,58,60]`.\n",
    "\n",
    "The sums of distances are then: `162, 163, 165, 165, 167, 168, 170, 172, 173, 175`.\n",
    "\n",
    "The biggest possible sum taking a limit of `174` into account is then `173` and the distances of the 3 corresponding towns is `[55, 58, 60]`.\n",
    "\n",
    "The function `chooseBestSum` (or `choose_best_sum` or ... depending on the language) will take as parameters `t` (maximum sum of distances, integer >= 0), `k` (number of towns to visit, `k` >= 1) and `ls` (list of distances, all distances are positive or null integers and this list has at least one element). The function returns the \"best\" sum ie the biggest possible sum of `k` distances less than or equal to the given limit `t`, if that sum exists, or otherwise nil, null, `None`, Nothing, depending on the language.\n",
    "\n",
    "Examples:  \n",
    "`ts = [50, 55, 56, 57, 58] choose_best_sum(163, 3, ts) -> 163`\n",
    "\n",
    "`xs = [50] choose_best_sum(163, 3, xs) -> nil (or null or ... or -1 (C++, C, Rust, Swift, Go)`\n",
    "\n",
    "`ys = [91, 74, 73, 85, 73, 81, 87] choose_best_sum(230, 3, ys) -> 228`\n",
    "\n",
    "Note:\n",
    "don't modify the input list `ls`\n",
    "\n",
    "**Solution**"
   ]
  },
  {
   "cell_type": "code",
   "execution_count": 25,
   "id": "dense-psychiatry",
   "metadata": {},
   "outputs": [],
   "source": [
    "import itertools\n",
    "def choose_best_sum(t, k, ls):\n",
    "    # checks if possible to attain k number of values\n",
    "    if len(ls) < k:\n",
    "        return None\n",
    "    \n",
    "    difference = 99999999999\n",
    "    final_sum = 0\n",
    "    for combi in set(itertools.combinations(ls, k)):\n",
    "        combi_sum = sum(combi)\n",
    "        \n",
    "        if t-combi_sum >= 0 and t-combi_sum<difference:\n",
    "            final_sum = combi_sum\n",
    "            difference = t-final_sum\n",
    "    if final_sum == 0:\n",
    "        return None\n",
    "    else:\n",
    "        return final_sum"
   ]
  },
  {
   "cell_type": "code",
   "execution_count": 26,
   "id": "unlimited-layout",
   "metadata": {
    "scrolled": true
   },
   "outputs": [
    {
     "name": "stdout",
     "output_type": "stream",
     "text": [
      "230\n",
      "430\n",
      "None\n"
     ]
    }
   ],
   "source": [
    "xs = [100, 76, 56, 44, 89, 73, 68, 56, 64, 123, 2333, 144, 50, 132, 123, 34, 89]\n",
    "print(choose_best_sum(230, 4, xs))\n",
    "print(choose_best_sum(430, 5, xs))\n",
    "print(choose_best_sum(430, 8, xs))"
   ]
  },
  {
   "cell_type": "code",
   "execution_count": null,
   "id": "german-climate",
   "metadata": {},
   "outputs": [],
   "source": []
  }
 ],
 "metadata": {
  "kernelspec": {
   "display_name": "Python 3",
   "language": "python",
   "name": "python3"
  },
  "language_info": {
   "codemirror_mode": {
    "name": "ipython",
    "version": 3
   },
   "file_extension": ".py",
   "mimetype": "text/x-python",
   "name": "python",
   "nbconvert_exporter": "python",
   "pygments_lexer": "ipython3",
   "version": "3.8.5"
  }
 },
 "nbformat": 4,
 "nbformat_minor": 5
}
