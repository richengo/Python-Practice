{
 "cells": [
  {
   "cell_type": "markdown",
   "id": "intellectual-floating",
   "metadata": {},
   "source": [
    "# Python Fundamentals\n",
    "\n",
    "The following notebook contains some of the problems found on [CodeWars](https://www.codewars.com/), together with the solutions that I have came up with."
   ]
  },
  {
   "cell_type": "markdown",
   "id": "peripheral-diabetes",
   "metadata": {},
   "source": [
    "### Find the odd int\n",
    "Given an array of integers, find the one that appears an odd number of times.\n",
    "\n",
    "There will always be only one integer that appears an odd number of times.\n",
    "\n",
    "**Solution**"
   ]
  },
  {
   "cell_type": "code",
   "execution_count": 1,
   "id": "finished-success",
   "metadata": {},
   "outputs": [],
   "source": [
    "def find_it(seq):\n",
    "    for num in set(seq):\n",
    "        if seq.count(num) % 2 == 1:\n",
    "            return num"
   ]
  },
  {
   "cell_type": "code",
   "execution_count": 2,
   "id": "empty-monthly",
   "metadata": {},
   "outputs": [
    {
     "data": {
      "text/plain": [
       "5"
      ]
     },
     "execution_count": 2,
     "metadata": {},
     "output_type": "execute_result"
    }
   ],
   "source": [
    "find_it([20,1,-1,2,-2,3,3,5,5,1,2,4,20,4,-1,-2,5])"
   ]
  },
  {
   "cell_type": "markdown",
   "id": "concrete-adoption",
   "metadata": {},
   "source": [
    "### Help the book seller!\n",
    "\n",
    "A bookseller has lots of books classified in 26 categories labeled A, B, ... Z. Each book has a code `c` of 3, 4, 5 or more characters. The 1st character of a code is a capital letter which defines the book category.\n",
    "\n",
    "In the bookseller's stocklist each code `c` is followed by a space and by a positive integer n (int n >= 0) which indicates the quantity of books of this code in stock.\n",
    "\n",
    "For example an extract of a stocklist could be:\n",
    "\n",
    "`L = {\"ABART 20\", \"CDXEF 50\", \"BKWRK 25\", \"BTSQZ 89\", \"DRTYM 60\"}.\n",
    "or\n",
    "L = [\"ABART 20\", \"CDXEF 50\", \"BKWRK 25\", \"BTSQZ 89\", \"DRTYM 60\"] or ....`\n",
    "\n",
    "You will be given a stocklist (e.g. : L) and a list of categories in capital letters e.g :\n",
    "\n",
    "`M = {\"A\", \"B\", \"C\", \"W\"} \n",
    "or\n",
    "M = [\"A\", \"B\", \"C\", \"W\"] or ...`\n",
    "\n",
    "You will be given a stocklist (e.g. : L) and a list of categories in capital letters and your task is to find all the books of L with codes belonging to each category of M and to sum their quantity according to each category.\n",
    "\n",
    "For the lists L and M of example you have to return the string (in Haskell/Clojure/Racket a list of pairs):\n",
    "\n",
    "`(A : 20) - (B : 114) - (C : 50) - (W : 0)`\n",
    "\n",
    "where A, B, C, W are the categories, 20 is the sum of the unique book of category A, 114 the sum corresponding to \"BKWRK\" and \"BTSQZ\", 50 corresponding to \"CDXEF\" and 0 to category 'W' since there are no code beginning with W.\n",
    "\n",
    "If L or M are empty return string is \"\" (Clojure and Racket should return an empty array/list instead).\n",
    "\n",
    "Note:\n",
    "In the result codes and their values are in the same order as in M.\n",
    "\n",
    "**Solution**"
   ]
  },
  {
   "cell_type": "code",
   "execution_count": null,
   "id": "indirect-julian",
   "metadata": {},
   "outputs": [],
   "source": [
    "def stock_list(list_of_art, list_of_cat):\n",
    "    "
   ]
  },
  {
   "cell_type": "code",
   "execution_count": null,
   "id": "current-athletics",
   "metadata": {},
   "outputs": [],
   "source": [
    "b = [\"ABAR 200\", \"CDXE 500\", \"BKWR 250\", \"BTSQ 890\", \"DRTY 600\"]\n",
    "c = [\"A\", \"B\"]\n",
    "\n",
    "stock_list(b, c)"
   ]
  },
  {
   "cell_type": "code",
   "execution_count": null,
   "id": "administrative-convergence",
   "metadata": {},
   "outputs": [],
   "source": []
  },
  {
   "cell_type": "code",
   "execution_count": null,
   "id": "junior-robert",
   "metadata": {},
   "outputs": [],
   "source": []
  },
  {
   "cell_type": "code",
   "execution_count": null,
   "id": "peripheral-tours",
   "metadata": {},
   "outputs": [],
   "source": []
  },
  {
   "cell_type": "code",
   "execution_count": null,
   "id": "arbitrary-simulation",
   "metadata": {},
   "outputs": [],
   "source": []
  }
 ],
 "metadata": {
  "kernelspec": {
   "display_name": "Python 3",
   "language": "python",
   "name": "python3"
  },
  "language_info": {
   "codemirror_mode": {
    "name": "ipython",
    "version": 3
   },
   "file_extension": ".py",
   "mimetype": "text/x-python",
   "name": "python",
   "nbconvert_exporter": "python",
   "pygments_lexer": "ipython3",
   "version": "3.8.5"
  }
 },
 "nbformat": 4,
 "nbformat_minor": 5
}
